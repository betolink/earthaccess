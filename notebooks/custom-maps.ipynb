{
 "cells": [
  {
   "cell_type": "code",
   "execution_count": 3,
   "id": "d6949dd5-4c06-4bfe-928a-3ff86020a938",
   "metadata": {},
   "outputs": [],
   "source": [
    "import earthaccess\n",
    "import ipyleaflet\n",
    "from ipywidgets import Dropdown\n",
    "\n",
    "auth = earthaccess.login()"
   ]
  },
  {
   "cell_type": "code",
   "execution_count": 4,
   "id": "f7df3940-0c94-4530-b5b0-5c6a89ab1f61",
   "metadata": {
    "scrolled": true
   },
   "outputs": [],
   "source": [
    "# ArcticDEM\n",
    "# note that we need to use the same projection for the image service layer and the map.\n",
    "m1 = ipyleaflet.Map(\n",
    "    center=(90, 0),\n",
    "    zoom=4,\n",
    "    basemap=ipyleaflet.basemaps.Esri.ArcticOceanBase,\n",
    "    crs=ipyleaflet.projections.EPSG5936.ESRIBasemap,\n",
    ")\n",
    "# add arctic ocean reference basemap\n",
    "tl1 = ipyleaflet.basemap_to_tiles(ipyleaflet.basemaps.Esri.ArcticOceanReference)\n",
    "m1.add(tl1)\n",
    "\n",
    "# create a widget control for the raster function\n",
    "raster_functions = [\n",
    "    \"Aspect Map\",\n",
    "    \"Contour 25\",\n",
    "    \"Hillshade Elevation Tinted\",\n",
    "    \"Hillshade Gray\",\n",
    "    \"Height Ellipsoidal\",\n",
    "    \"Height Orthometric\",\n",
    "    \"Slope Map\"]\n",
    "raster_dropdown1 = Dropdown(\n",
    "    value=raster_functions[3],\n",
    "    options=raster_functions,\n",
    "    description=\"Raster:\",\n",
    ")\n",
    "\n",
    "# add image service layer with ArcticDEM\n",
    "url = 'https://elevation2.arcgis.com/arcgis/rest/services/Polar/ArcticDEM/ImageServer'\n",
    "rendering_rule = {\"rasterFunction\": raster_dropdown1.value}\n",
    "image_layer = ipyleaflet.ImageService(\n",
    "    name=\"CustomBaseLayer\",\n",
    "    url=url,\n",
    "    format='jpgpng', rendering_rule=rendering_rule,\n",
    "    attribution='Esri, PGC, UMN, NSF, NGA, DigitalGlobe',\n",
    "    crs=ipyleaflet.projections.EPSG5936.ESRIBasemap)\n",
    "\n",
    "m1.add(image_layer) \n",
    "\n",
    "# add control for raster function\n",
    "dropdown_control = ipyleaflet.WidgetControl(widget=raster_dropdown1, position=\"topright\")\n",
    "m1.add(dropdown_control)\n",
    "\n",
    "# set the rendering rule\n",
    "def set_raster_function(sender):\n",
    "    image_layer.rendering_rule = {\"rasterFunction\": raster_dropdown1.value}\n",
    "    # force redrawing of map by removing and adding layer\n",
    "    m1.remove(image_layer)\n",
    "    m1.add(image_layer)\n",
    "\n",
    "\n",
    "# watch raster function widget for changes\n",
    "raster_dropdown1.observe(set_raster_function)"
   ]
  },
  {
   "cell_type": "code",
   "execution_count": 5,
   "id": "eaf798ac-3fd2-46ef-a8f1-2201665d1f1d",
   "metadata": {},
   "outputs": [],
   "source": [
    "sw = earthaccess.search_widget(map=m1)"
   ]
  },
  {
   "cell_type": "code",
   "execution_count": 7,
   "id": "0611e720-d8df-4795-9731-59d7d7784f4f",
   "metadata": {},
   "outputs": [
    {
     "name": "stdout",
     "output_type": "stream",
     "text": [
      "Granules found: 2241\n"
     ]
    },
    {
     "data": {
      "application/vnd.jupyter.widget-view+json": {
       "model_id": "f546505055d24289bac2946c810fd44d",
       "version_major": 2,
       "version_minor": 0
      },
      "text/plain": [
       "Map(bottom=2348.0, center=[90, 0], controls=(LayersControl(options=['position']), ZoomControl(options=['positi…"
      ]
     },
     "execution_count": 7,
     "metadata": {},
     "output_type": "execute_result"
    }
   ],
   "source": [
    "polygon = [(-83.837578, 45.82529), (-80.167794, 45.82529), (-80.167794, 46.021921), (-83.837578, 46.021921), (-83.837578, 45.82529)]\n",
    "\n",
    "if 'sw' in vars():\n",
    "    if len(sw.roi) > 0:\n",
    "        polygon = sw.roi\n",
    "\n",
    "params = {\n",
    "    \"concept_id\" : [\"C2596864127-NSIDC_CPRD\", \"C2076090826-LPCLOUD\", \"C2237824918-ORNL_CLOUD\"],\n",
    "    \"temporal\": (\"2021-01\", \"2023-09\"),\n",
    "    # \"cloud_cover\": (0, 20),\n",
    "    \"polygon\": polygon\n",
    "}\n",
    "results = earthaccess.search_data(**params)\n",
    "m = sw.explore(results)\n",
    "# explore will inject its own controls so we add the base layer dropdown back\n",
    "try:\n",
    "    sw.map.add(dropdown_control)\n",
    "except Exception:\n",
    "    pass\n",
    "m"
   ]
  },
  {
   "cell_type": "markdown",
   "id": "5da379fd-d352-422a-a4fe-624aa6493223",
   "metadata": {},
   "source": []
  },
  {
   "cell_type": "code",
   "execution_count": 2,
   "id": "eaf5706e-da3d-42ee-ba8c-a258ae3087f3",
   "metadata": {},
   "outputs": [
    {
     "data": {
      "image/svg+xml": [
       "<svg xmlns=\"http://www.w3.org/2000/svg\" xmlns:xlink=\"http://www.w3.org/1999/xlink\" width=\"300\" height=\"294.62551525514573\" viewBox=\"1510160.1052348425 5231725.069796032 330.4986626051832 294.62551525514573\" preserveAspectRatio=\"xMinYMin meet\"><g transform=\"matrix(1,0,0,-1,0,10463744.765107319)\"><path fill-rule=\"evenodd\" fill=\"#66cc99\" stroke=\"#555555\" stroke-width=\"2.203324417367888\" opacity=\"0.6\" d=\"M 1510201.51163263,5231853.21495661 L 1510205.07385634,5231834.04836418 L 1510234.68484089,5231803.41208067 L 1510228.5622689,5231757.38238337 L 1510242.14324677,5231750.28930242 L 1510255.94686363,5231761.30621767 L 1510273.86930165,5231737.31048724 L 1510326.96869876,5231738.21598539 L 1510392.64719833,5231765.98463763 L 1510435.72784126,5231746.9691387 L 1510462.55583854,5231782.88733548 L 1510478.36320624,5231862.42097153 L 1510445.30131747,5231913.582431 L 1510448.75222169,5231960.66932885 L 1510439.40138446,5231986.77851119 L 1510332.5346733,5231985.87298921 L 1510318.06313949,5232007.45462008 L 1510302.92368875,5231986.17482986 L 1510246.37338742,5231969.12084818 L 1510283.77673633,5231921.8829889 L 1510308.2670243,5231917.80816866 L 1510316.05938866,5231904.22544721 L 1510309.26889972,5231887.32253223 L 1510326.30078181,5231881.28578422 L 1510324.63098945,5231839.02865612 L 1510308.48966329,5231827.86073242 L 1510288.67479393,5231789.22585497 L 1510273.53534318,5231790.88594411 L 1510275.31645503,5231823.33319954 L 1510267.1901322,5231831.784596 L 1510276.54096943,5231861.2136248 L 1510263.51658901,5231869.66505514 L 1510258.61853141,5231899.09420196 L 1510214.42469357,5231895.77398594 L 1510172.34592605,5231926.25964964 L 1510201.17767416,5231879.17292332 L 1510201.51163263,5231853.21495661 z\" /></g></svg>"
      ],
      "text/plain": [
       "<POLYGON ((1510201.512 5231853.215, 1510205.074 5231834.048, 1510234.685 523...>"
      ]
     },
     "execution_count": 2,
     "metadata": {},
     "output_type": "execute_result"
    }
   ],
   "source": [
    "import requests\n",
    "from shapely.geometry import shape\n",
    "from shapely.geometry.polygon import Polygon\n",
    "\n",
    "geojson = requests.get(\"https://www.glims.org/geoserver/GLIMS/wms?SERVICE=WMS&VERSION=1.3.0&REQUEST=GetFeatureInfo&FORMAT=application/json&TRANSPARENT=true&QUERY_LAYERS=GLIMS_GLACIERS&LAYERS=GLIMS_GLACIERS&INFO_FORMAT=application%2Fjson&FEATURE_COUNT=20&I=50&J=50&CRS=EPSG%3A3857&WIDTH=101&HEIGHT=101&BBOX=1509769.8507459976%2C5231269.001494909%2C1510734.8682280981%2C5232234.018977009\").json()\n",
    "\n",
    "polygon: Polygon = shape(geojson[\"features\"][0][\"geometry\"])\n",
    "polygon"
   ]
  }
 ],
 "metadata": {
  "kernelspec": {
   "display_name": "Python 3 (ipykernel)",
   "language": "python",
   "name": "python3"
  },
  "language_info": {
   "codemirror_mode": {
    "name": "ipython",
    "version": 3
   },
   "file_extension": ".py",
   "mimetype": "text/x-python",
   "name": "python",
   "nbconvert_exporter": "python",
   "pygments_lexer": "ipython3",
   "version": "3.9.18"
  }
 },
 "nbformat": 4,
 "nbformat_minor": 5
}
